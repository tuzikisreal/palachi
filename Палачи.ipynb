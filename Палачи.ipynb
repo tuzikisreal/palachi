{
  "nbformat": 4,
  "nbformat_minor": 0,
  "metadata": {
    "colab": {
      "provenance": []
    },
    "kernelspec": {
      "name": "python3",
      "display_name": "Python 3"
    },
    "language_info": {
      "name": "python"
    }
  },
  "cells": [
    {
      "cell_type": "markdown",
      "source": [
        "КОД РАБОТАЕТ ТОЛЬКО НА ЛОКАЛЬНОЙ СРЕДЕ"
      ],
      "metadata": {
        "id": "-2lHbhdnYqhx"
      }
    },
    {
      "cell_type": "code",
      "execution_count": null,
      "metadata": {
        "id": "7YjCFTtTYDsQ"
      },
      "outputs": [],
      "source": [
        "\n",
        "from tkinter import *\n",
        "import random\n",
        "\n",
        "# список слов для угадывания\n",
        "words = ['python', 'computer', 'programming', 'code', 'database', 'algorithm']\n",
        "\n",
        "# случайно выбираем слово из списка\n",
        "word = random.choice(words)\n",
        "\n",
        "# количество попыток\n",
        "tries = 6\n",
        "\n",
        "# текущее состояние угадывания слова (добавляем неугаданные буквы заменены символом \"_\")\n",
        "guess_word = '_' * len(word)\n",
        "\n",
        "# функция-обработчик нажатия кнопки \"Угадать\"\n",
        "def guess():\n",
        "    global tries, guess_word\n",
        "    letter = guess_entry.get().lower()\n",
        "    if letter in word:\n",
        "        for i in range(len(word)):\n",
        "            if word[i] == letter:\n",
        "                guess_list[i].configure(text=letter.upper())\n",
        "                guess_word = guess_word[:i] + letter + guess_word[i+1:]\n",
        "    else:\n",
        "        tries -= 1\n",
        "        tries_label.configure(text=\"Осталось попыток: {}\".format(tries))\n",
        "        if tries == 0:\n",
        "            guess_button.configure(state=\"disabled\")\n",
        "            result_label.configure(text=\"Вы проиграли! Слово было '{}'\".format(word.upper()))\n",
        "            return\n",
        "\n",
        "    if guess_word == word:\n",
        "        guess_button.configure(state=\"disabled\")\n",
        "        result_label.configure(text=\"Вы выиграли! Слово было '{}'\".format(word.upper()))\n",
        "\n",
        "    guess_entry.delete(0, END)\n",
        "\n",
        "# создаем главное окно\n",
        "root = Tk()\n",
        "root.title(\"Игра в Палачи\")\n",
        "\n",
        "# создаем виджеты\n",
        "guess_label = Label(root, text=\"Угадайте слово:\", font=\"Verdana 10\")\n",
        "guess_label.grid(row=0, column=0, pady=10)\n",
        "\n",
        "guess_frame = Frame(root)\n",
        "guess_frame.grid(row=1, column=0)\n",
        "\n",
        "guess_list = []\n",
        "for i in range(len(word)):\n",
        "    guess_list.append(Label(guess_frame, text=\"_\", font=\"Verdana 12\", width=2, padx=2, pady=2))\n",
        "    guess_list[-1].grid(row=0, column=i)\n",
        "\n",
        "guess_entry = Entry(root, font=\"Verdana 12\", width=5)\n",
        "guess_entry.grid(row=2, column=0, pady=10)\n",
        "\n",
        "guess_button = Button(root, text=\"Угадать\", font=\"Verdana 10\", command=guess)\n",
        "guess_button.grid(row=2, column=1, pady=10)\n",
        "\n",
        "result_label = Label(root, font=\"Verdana 12 bold\", fg=\"red\")\n",
        "result_label.grid(row=3, column=0, pady=10)\n",
        "\n",
        "tries_label = Label(root, font=\"Verdana 12\", text=\"Осталось попыток: {}\".format(tries))\n",
        "tries_label.grid(row=4, column=0, pady=10)\n",
        "\n",
        "# запускаем главный цикл\n",
        "root.mainloop()\n"
      ]
    },
    {
      "cell_type": "markdown",
      "source": [
        "КОД РАБОТАЕТ ТОЛЬКО НА ЛОКАЛЬНОЙ СРЕДЕ"
      ],
      "metadata": {
        "id": "GBEDCBK9Yryh"
      }
    }
  ]
}